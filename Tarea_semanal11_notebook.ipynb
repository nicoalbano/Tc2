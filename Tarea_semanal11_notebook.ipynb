{
 "cells": [
  {
   "attachments": {
    "image-2.png": {
     "image/png": "[encoded data removed]"
    },
    "image.png": {
     "image/png": "[encoded data removed]"
    }
   },
   "cell_type": "markdown",
   "metadata": {},
   "source": [
    "### Trabajo semanal 11- Síntesis de func. transferencia descargadas NO disipativas\n",
    "## Nicolas Albano \n",
    "\n",
    "1) Ej. 6 TP Síntesis de Cuadripolos) \n",
    "\n",
    "Sintetizar un cuadripolo que cumpla con los siguientes parámetros:\n",
    "\n",
    "![image.png](attachment:image.png)\n",
    "\n",
    "a) Obtener la topología mediante la síntesis gráfica, es decir la red sin valores.\n",
    "\n",
    "b) Calcular el valor de los componentes, es decir la síntesis analítica.\n",
    "\n",
    "c) Verificar los parámetros en el cuadripolo sintetizado.\n",
    "\n",
    "2) Sintetizar un cuadripolo que implemente la siguiente transferencia de tensiones en vacío:\n",
    "\n",
    "![image-2.png](attachment:image-2.png)\n",
    "\n",
    "a) Obtener la topología mediante la síntesis gráfica, es decir la red sin valores.\n",
    "\n",
    "b) Calcular el valor de los componentes, es decir la síntesis analítica.\n",
    "\n",
    "c) Verificar los parámetros en el cuadripolo sintetizado."
   ]
  },
  {
   "cell_type": "code",
   "execution_count": 2,
   "metadata": {},
   "outputs": [
    {
     "data": {
      "text/latex": [
       "$\\displaystyle Y(s)=\\frac{3 s^{3} + 7 s}{s^{4} + 7 s^{2} + 10}$"
      ],
      "text/plain": [
       "<IPython.core.display.Math object>"
      ]
     },
     "metadata": {},
     "output_type": "display_data"
    }
   ],
   "source": [
    "import sympy as sp\n",
    "from schemdraw import Drawing\n",
    "\n",
    "# Ahora importamos las funciones de PyTC2\n",
    "\n",
    "from pytc2.remociones import remover_polo_dc, remover_polo_jw, remover_polo_infinito\n",
    "from pytc2.dibujar import display, dibujar_puerto_entrada, dibujar_funcion_exc_abajo,  dibujar_elemento_serie, dibujar_elemento_derivacion,  dibujar_tanque_derivacion, dibujar_tanque_RC_serie,  dibujar_espacio_derivacion, Capacitor, Resistor, ResistorIEC\n",
    "from pytc2.general import print_latex, print_subtitle, a_equal_b_latex_s\n",
    "from IPython.display import display,  Markdown\n",
    "s = sp.symbols('s ', complex=True)\n",
    "\n",
    "# Defino Y\n",
    "Y = (3*s**3 + 7*s) / (s**4 + 7*s**2 + 10)\n",
    "print_latex(a_equal_b_latex_s('Y(s)', Y))"
   ]
  },
  {
   "cell_type": "code",
   "execution_count": 3,
   "metadata": {},
   "outputs": [
    {
     "data": {
      "text/latex": [
       "$\\displaystyle Z_1(s) = \\frac{k^p_0}{s}=\\frac{1}{s}$"
      ],
      "text/plain": [
       "<IPython.core.display.Math object>"
      ]
     },
     "metadata": {},
     "output_type": "display_data"
    },
    {
     "data": {
      "text/latex": [
       "$\\displaystyle Z_2(s)=\\frac{\\left(s^{2} + 1\\right) \\left(s^{2} + 3\\right)}{s \\left(3 s^{2} + 7\\right)}$"
      ],
      "text/plain": [
       "<IPython.core.display.Math object>"
      ]
     },
     "metadata": {},
     "output_type": "display_data"
    }
   ],
   "source": [
    "# Removemos polo en W=1\n",
    "\n",
    "Z=1/Y\n",
    "\n",
    "omega_L2C2 = 1\n",
    "\n",
    "Z2, Zc1 = remover_polo_dc(Z, omega_zero = omega_L2C2 )\n",
    "\n",
    "C1 = 1/(s*Zc1)\n",
    "\n",
    "print_latex(a_equal_b_latex_s('Z_1(s) = \\\\frac{k^p_0}{s}', Zc1))\n",
    "print_latex(a_equal_b_latex_s('Z_2(s)', Z2))\n"
   ]
  },
  {
   "cell_type": "code",
   "execution_count": 4,
   "metadata": {},
   "outputs": [
    {
     "name": "stdout",
     "output_type": "stream",
     "text": [
      "2\n",
      "1/2\n"
     ]
    },
    {
     "data": {
      "text/latex": [
       "$\\displaystyle Y_3(s)=\\frac{2 s}{s^{2} + 1}$"
      ],
      "text/plain": [
       "<IPython.core.display.Math object>"
      ]
     },
     "metadata": {},
     "output_type": "display_data"
    },
    {
     "data": {
      "text/latex": [
       "$\\displaystyle Y_4(s)=\\frac{s}{s^{2} + 3}$"
      ],
      "text/plain": [
       "<IPython.core.display.Math object>"
      ]
     },
     "metadata": {},
     "output_type": "display_data"
    }
   ],
   "source": [
    "Y4, Yt2, L2, C2 = remover_polo_jw(1/Z2, isImpedance = False, omega = omega_L2C2 )\n",
    "\n",
    "print(C2)\n",
    "print(L2)\n",
    "print_latex(a_equal_b_latex_s('Y_3(s)', Yt2))\n",
    "print_latex(a_equal_b_latex_s('Y_4(s)', Y4))"
   ]
  },
  {
   "cell_type": "code",
   "execution_count": 5,
   "metadata": {},
   "outputs": [
    {
     "data": {
      "text/latex": [
       "$\\displaystyle Z4t(s)=s$"
      ],
      "text/plain": [
       "<IPython.core.display.Math object>"
      ]
     },
     "metadata": {},
     "output_type": "display_data"
    },
    {
     "data": {
      "text/latex": [
       "$\\displaystyle Z6(s)=\\frac{3}{s}$"
      ],
      "text/plain": [
       "<IPython.core.display.Math object>"
      ]
     },
     "metadata": {},
     "output_type": "display_data"
    }
   ],
   "source": [
    "Z6, Z4t=remover_polo_infinito(1/Y4)\n",
    "\n",
    "\n",
    "print_latex(a_equal_b_latex_s('Z4t(s)', Z4t))\n",
    "print_latex(a_equal_b_latex_s('Z6(s)', Z6))"
   ]
  },
  {
   "cell_type": "markdown",
   "metadata": {},
   "source": [
    "### Ejercicio 2"
   ]
  },
  {
   "cell_type": "code",
   "execution_count": 6,
   "metadata": {},
   "outputs": [
    {
     "data": {
      "text/latex": [
       "$\\displaystyle Z11(s)=\\frac{\\left(s^{2} + 1\\right) \\left(s^{2} + 3\\right)}{s \\left(s^{2} + 1.5\\right) \\left(s^{2} + 4\\right)}$"
      ],
      "text/plain": [
       "<IPython.core.display.Math object>"
      ]
     },
     "metadata": {},
     "output_type": "display_data"
    }
   ],
   "source": [
    "Z11= ((s**2+1)*(s**2+3))/(s*(s**2+1.5)*(s**2+4))\n",
    "print_latex(a_equal_b_latex_s('Z11(s)',Z11))\n"
   ]
  },
  {
   "cell_type": "code",
   "execution_count": 26,
   "metadata": {},
   "outputs": [
    {
     "data": {
      "text/latex": [
       "$\\displaystyle Y_3(s)=\\frac{3.65625 s \\left(0.111111111111111 s^{2} + 1.0\\right) \\left(0.538461538461538 s^{2} + 1.0\\right)}{\\left(s^{2} + 1\\right) \\left(s^{2} + 3\\right)}$"
      ],
      "text/plain": [
       "<IPython.core.display.Math object>"
      ]
     },
     "metadata": {},
     "output_type": "display_data"
    },
    {
     "name": "stdout",
     "output_type": "stream",
     "text": [
      "0.78125*s\n",
      "0.781250000000000\n"
     ]
    }
   ],
   "source": [
    "# Remocion parcial en W=3\n",
    "omega_C1=3\n",
    "Y3, Yc1 = remover_polo_infinito(1/Z11, omega_zero = omega_C1 )\n",
    "\n",
    "C1=Yc1/s\n",
    "#num, den = Y3.as_numer_denom()\n",
    "#roots_num = sp.solve(num, s, dict=True)\n",
    "#print(roots_num)\n",
    "\n",
    "#roots_den = sp.solve(den, s, dict=True)\n",
    "#print(roots_den)\n",
    "\n",
    "print_latex(a_equal_b_latex_s('Y_3(s)', Y3))\n",
    "print(Yc1)\n",
    "print(C1)"
   ]
  },
  {
   "cell_type": "code",
   "execution_count": 27,
   "metadata": {},
   "outputs": [
    {
     "name": "stdout",
     "output_type": "stream",
     "text": [
      "1.33928571428571\n",
      "0.0829629629629630\n"
     ]
    },
    {
     "data": {
      "text/latex": [
       "$\\displaystyle Zt2(s)=\\frac{0.746666666666667 s}{s^{2} + 9}$"
      ],
      "text/plain": [
       "<IPython.core.display.Math object>"
      ]
     },
     "metadata": {},
     "output_type": "display_data"
    },
    {
     "data": {
      "text/latex": [
       "$\\displaystyle Z_5(s)=\\frac{0.179487179487179 \\cdot \\left(0.00938271604938272 s^{6} + 0.181234567901235 s^{4} + 0.982222222222222 s^{2} + 1.0\\right)}{s \\left(0.00664767331433998 s^{6} + 0.132003798670465 s^{4} + 0.760683760683761 s^{2} + 1.0\\right)}$"
      ],
      "text/plain": [
       "<IPython.core.display.Math object>"
      ]
     },
     "metadata": {},
     "output_type": "display_data"
    }
   ],
   "source": [
    "#Z3=1/Y3 \n",
    "# Preguntar al profe si tal vez es algo del codigo lo que anda mal porq el residuo me da bien pero no asi la funcion inmitancia que me devuelve\n",
    "# Si hardcode la funcion me dan bien los resultados \n",
    "Z3=((s**2+1)*(s**2+3))/(s*(s**2+9)*(s**2+(13/7)))\n",
    "\n",
    "Z5, Zt2, L2, C2 = remover_polo_jw(Z3, isImpedance = True, omega = omega_C1 )\n",
    "\n",
    "# Estos me dan bien \n",
    "print(C2)\n",
    "print(L2)\n",
    "print_latex(a_equal_b_latex_s('Zt2(s)', Zt2))\n",
    "print_latex(a_equal_b_latex_s('Z_5(s)', Z5))"
   ]
  },
  {
   "cell_type": "code",
   "execution_count": 28,
   "metadata": {},
   "outputs": [
    {
     "name": "stdout",
     "output_type": "stream",
     "text": [
      "[{s: -3.0*I}, {s: -1.14707866935281*I}, {s: 1.14707866935281*I}, {s: 3.0*I}]\n"
     ]
    }
   ],
   "source": [
    "# Celda auxiliar para verificar si la resta en papel me daba bien las raices\n",
    "num= (19/75)* s**4 +196/75*s**2+3\n",
    "\n",
    "roots_num = sp.solve(num, s, dict=True)\n",
    "print(roots_num)"
   ]
  },
  {
   "cell_type": "code",
   "execution_count": 29,
   "metadata": {},
   "outputs": [
    {
     "name": "stdout",
     "output_type": "stream",
     "text": [
      "[{s: 0.0}, {s: -1.4142135623731*I}, {s: 1.4142135623731*I}]\n"
     ]
    }
   ],
   "source": [
    "num_y7=72/91 * s**3 + 144/91 * s\n",
    "\n",
    "roots_num = sp.solve(num_y7, s, dict=True)\n",
    "print(roots_num)"
   ]
  },
  {
   "cell_type": "code",
   "execution_count": 30,
   "metadata": {},
   "outputs": [
    {
     "name": "stdout",
     "output_type": "stream",
     "text": [
      "[{s: -1.4142135623731*I}, {s: 1.4142135623731*I}]\n"
     ]
    }
   ],
   "source": [
    "num_z9=25/38 * s**2 +25/19\n",
    "roots_num = sp.solve(num_z9, s, dict=True)\n",
    "print(roots_num)"
   ]
  }
 ],
 "metadata": {
  "kernelspec": {
   "display_name": "Python 3",
   "language": "python",
   "name": "python3"
  },
  "language_info": {
   "codemirror_mode": {
    "name": "ipython",
    "version": 3
   },
   "file_extension": ".py",
   "mimetype": "text/x-python",
   "name": "python",
   "nbconvert_exporter": "python",
   "pygments_lexer": "ipython3",
   "version": "3.10.12"
  }
 },
 "nbformat": 4,
 "nbformat_minor": 2
}
